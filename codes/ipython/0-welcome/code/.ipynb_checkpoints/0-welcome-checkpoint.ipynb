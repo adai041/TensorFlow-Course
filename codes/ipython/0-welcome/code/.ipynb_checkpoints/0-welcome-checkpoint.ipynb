{
 "cells": [
  {
   "cell_type": "code",
   "execution_count": 1,
   "metadata": {
    "collapsed": true
   },
   "outputs": [],
   "source": [
    "#####################################################\n",
    "########## Welcome to TensorFlow World ##############\n",
    "#####################################################\n",
    "\n",
    "# The tutorials in this section is just a start for going into TensorFlow world.\n",
    "# The TensorFlow flags are used for having a more user friendly environment.\n",
    "\n",
    "from __future__ import print_function\n",
    "import tensorflow as tf\n",
    "import os"
   ]
  },
  {
   "cell_type": "code",
   "execution_count": 3,
   "metadata": {
    "collapsed": true
   },
   "outputs": [],
   "source": [
    "# Defining some sentence!\n",
    "welcome = tf.constant('Welcome to TensorFlow world!')"
   ]
  },
  {
   "cell_type": "code",
   "execution_count": 4,
   "metadata": {},
   "outputs": [
    {
     "name": "stdout",
     "output_type": "stream",
     "text": [
      "output:  Welcome to TensorFlow world!\n"
     ]
    }
   ],
   "source": [
    "# Run the session\n",
    "with tf.Session() as sess:\n",
    "    print(\"output: \", sess.run(welcome))"
   ]
  },
  {
   "cell_type": "code",
   "execution_count": 6,
   "metadata": {
    "collapsed": true
   },
   "outputs": [],
   "source": [
    "# Closing the session.\n",
    "sess.close()"
   ]
  },
  {
   "cell_type": "code",
   "execution_count": null,
   "metadata": {
    "collapsed": true
   },
   "outputs": [],
   "source": []
  }
 ],
 "metadata": {
  "kernelspec": {
   "display_name": "Python 3",
   "language": "python",
   "name": "python3"
  },
  "language_info": {
   "codemirror_mode": {
    "name": "ipython",
    "version": 3
   },
   "file_extension": ".py",
   "mimetype": "text/x-python",
   "name": "python",
   "nbconvert_exporter": "python",
   "pygments_lexer": "ipython3",
   "version": "3.6.8"
  }
 },
 "nbformat": 4,
 "nbformat_minor": 2
}
